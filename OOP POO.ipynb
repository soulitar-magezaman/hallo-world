{
 "cells": [
  {
   "cell_type": "markdown",
   "id": "66b84a7e",
   "metadata": {},
   "source": [
    "# Por qué programar en objetos?\n",
    "* los lenguajes basados en procedimientos son muy extensos de escribir...los lenguajes basados en procedimientos son muy extensos de escribir\n",
    "* muchas líneas y no admiten reutilización de código\n",
    "* un fallo tumba todo el código\n",
    "* mucho uso de saltos de línea en el código - espagueti\n",
    "\n",
    "## trasladar el código a objetos\n",
    "así entendemos la realidad. los **objetos** tienen:\n",
    "* un estado\n",
    "* unas propiedades\n",
    "* un comportamiento\n",
    "pues con esta estructura se diseña el código POO\n",
    "\n",
    "y tiene las ventajas contrarias a las desventajas de la programación en procedimientos\n",
    "\n",
    "# Conceptos y terminologías de POO\n",
    "## Clases\n",
    "un modelo donde se redactan las características comunes de un conjunto de objetos. como las 4 ruedas de un coche\n",
    "## ejemplar/instancia/objeto de clase\n",
    "lo perteneciente a una clase. como los modelos de coche... todos comparten 4 ruedas pero tienen diferentes otras características\n",
    "## modularización\n",
    "puede haber más de una clase en un código. y estas clases ser compatibles con otros códigos. este conjunto de clases separables es un módulo.\n",
    "como las antiguos equipos de sonido separados en varios módulos\n",
    "## encapsulación\n",
    "un módulo nada sabe de otro módulo. no se construyen entre ellos pero entre todos los módulos construyen un programa.\n",
    "\n",
    "## métodos de acceso\n",
    "cómo conectar clases con otras?\n",
    "sólo a ciertas características de las clases se comunicarán a otras pero sin acceder a su funcionamiento\n",
    "\n",
    "## cómo acceder a las características?\n",
    "**nomenclatura del punto**\n",
    "* las propiedades: obj.prop=x\n",
    "* el comportamiento: obj.comp()"
   ]
  },
  {
   "cell_type": "markdown",
   "id": "4ae9f0d9",
   "metadata": {},
   "source": [
    "# en práctica\n",
    "## crear una clase\n",
    "Cómo escribir clases? Sugiere llamarlas en mayúscula\n",
    "\n",
    "Las clase Coche tendrá las siguientes propiedades:"
   ]
  },
  {
   "cell_type": "code",
   "execution_count": 1,
   "id": "d8ba7bc3",
   "metadata": {},
   "outputs": [],
   "source": [
    "class Coche():\n",
    "    #propiedades\n",
    "    largo_chasis=250\n",
    "    ancho=120\n",
    "    ruedas=4\n",
    "    enmarcha=True #siempre está en marcha el coche\n",
    "    encendido=False\n",
    "    \n",
    "    #métodos:\n",
    "    def arrancar(self):\n",
    "        pass #para no dejarla vacía, si no, fallaría el código\n",
    "    def frenar(self):\n",
    "        self.enmarcha=False #cuando se ejecuta, llama al propio objeto y le cambia el estado de marcha\n",
    "\n",
    "#añadiendo parámetros a los métodos de una clase:\n",
    "    def encender(self,chispa):\n",
    "        self.encendido=chispa\n",
    "        \n",
    "        if(self.encendido):\n",
    "            print('coche encendido')\n",
    "        else:\n",
    "            print('coche apagado')\n",
    "    def estado(self):\n",
    "        print('chasis largo y ancho:', self.largo_chasis,'y',self.ancho)"
   ]
  },
  {
   "cell_type": "markdown",
   "id": "6ef1d627",
   "metadata": {},
   "source": [
    "## creando métodos:\n",
    "cómo se escriben los métodos? estos sólo existen para la clase determinada\n",
    "\n",
    "el parámetro por excelencia: self. Hace referencia al propio objeto/instancia perteneciente a la clase\n",
    "Lo he escrito todo junto porque la class se tiene que escribir de tirado"
   ]
  },
  {
   "cell_type": "markdown",
   "id": "ddeb882f",
   "metadata": {},
   "source": [
    "## Creando objetos\n",
    "viendo los estados y aplicándoles métodos"
   ]
  },
  {
   "cell_type": "code",
   "execution_count": 2,
   "id": "c7cc67ca",
   "metadata": {},
   "outputs": [
    {
     "name": "stdout",
     "output_type": "stream",
     "text": [
      "250\n",
      "un antes: True\n",
      "un después: False\n"
     ]
    }
   ],
   "source": [
    "mi_coche=Coche()\n",
    "print(mi_coche.largo_chasis)\n",
    "print('un antes:', mi_coche.enmarcha)\n",
    "mi_coche.frenar()\n",
    "print('un después:', mi_coche.enmarcha)"
   ]
  },
  {
   "cell_type": "markdown",
   "id": "7128d3e2",
   "metadata": {},
   "source": [
    "creando una segunda instancia:"
   ]
  },
  {
   "cell_type": "code",
   "execution_count": 3,
   "id": "1c3c9476",
   "metadata": {},
   "outputs": [
    {
     "name": "stdout",
     "output_type": "stream",
     "text": [
      "False vs True\n"
     ]
    }
   ],
   "source": [
    "tucoche=Coche()\n",
    "print(mi_coche.enmarcha, 'vs', tucoche.enmarcha)"
   ]
  },
  {
   "cell_type": "markdown",
   "id": "bb8a1b23",
   "metadata": {},
   "source": [
    "viendo métodos con parámetros diferentes a self"
   ]
  },
  {
   "cell_type": "code",
   "execution_count": 4,
   "id": "1cd2c9fe",
   "metadata": {},
   "outputs": [
    {
     "name": "stdout",
     "output_type": "stream",
     "text": [
      "chasis largo y ancho: 250 y 120\n",
      "coche apagado\n",
      "coche encendido\n"
     ]
    }
   ],
   "source": [
    "mi_coche.estado()\n",
    "mi_coche.encender(False)\n",
    "tucoche.encender(True)"
   ]
  },
  {
   "cell_type": "markdown",
   "id": "46323f1c",
   "metadata": {},
   "source": [
    "## Constructores\n",
    "Todos los objetos de una clase van a tener unas características comunes iniciales, normalmente. siempre que se cree un objeto de una clase, este va a tener cierto estado definido por un constructor.\n",
    "\n",
    "el constructor es un método estándard llamado \\_\\_init\\_\\_\n"
   ]
  },
  {
   "cell_type": "code",
   "execution_count": 5,
   "id": "0b22e4fd",
   "metadata": {},
   "outputs": [],
   "source": [
    "class Moto():\n",
    "    def __init__(self):\n",
    "        self.ruedas = 2\n",
    "        self.largo = 'mas cortito'\n",
    "    def estado(self):\n",
    "        print('ruedas y largo',self.ruedas,'y',self.largo)\n",
    "        "
   ]
  },
  {
   "cell_type": "code",
   "execution_count": 6,
   "id": "9461aed4",
   "metadata": {},
   "outputs": [
    {
     "name": "stdout",
     "output_type": "stream",
     "text": [
      "ruedas y largo 2 y mas cortito\n",
      "ruedas y largo 3 y mas cortito\n"
     ]
    }
   ],
   "source": [
    "mimoto = Moto()\n",
    "tumoto = Moto()\n",
    "mimoto.estado()\n",
    "tumoto.ruedas=3\n",
    "tumoto.estado() #es un puto triciclo"
   ]
  },
  {
   "cell_type": "markdown",
   "id": "25f2aece",
   "metadata": {},
   "source": [
    "hemos modificado las propiedades de las ruedas de la moto! para evitar dar acceso a estas propiedades, estas se *encapsulan* con dos __ para evitar el acceso a las propiedades de la clase desde fuera de su definición. INCLUSO SI ESCRIBES LOS __ durante el intento de modificación. pero solo desde fuera:\n"
   ]
  },
  {
   "cell_type": "code",
   "execution_count": 7,
   "id": "adffbdaf",
   "metadata": {},
   "outputs": [
    {
     "name": "stdout",
     "output_type": "stream",
     "text": [
      "las bicis son intocables\n",
      "las bicis son intocables\n",
      "ahora las bicis son bonitas\n"
     ]
    }
   ],
   "source": [
    "class Bici():\n",
    "    def __init__(self):\n",
    "        self.__derechos = 'intocables'\n",
    "    def boost(self,mejora):\n",
    "        self.__derechos = mejora\n",
    "        print('ahora las bicis son',self.__derechos)\n",
    "    def estado(self):\n",
    "        print('las bicis son',self.__derechos)\n",
    "\n",
    "mibici=Bici()\n",
    "mibici.estado()\n",
    "mibici.__derechos = 'rotos'\n",
    "mibici.estado()\n",
    "mibici.boost('bonitas')"
   ]
  },
  {
   "cell_type": "markdown",
   "id": "8d585c3c",
   "metadata": {},
   "source": [
    "También se pueden encapsular los métodos! pero para qué?\n",
    "\n",
    "igual que, cuando arrancas un coche, este checkea si los parámetros para arrancar son los adecuados y luego arranca, podemos hacer lo mismo:"
   ]
  },
  {
   "cell_type": "code",
   "execution_count": 8,
   "id": "ae32e393",
   "metadata": {},
   "outputs": [
    {
     "name": "stdout",
     "output_type": "stream",
     "text": [
      "las bicis son intocables\n",
      "pedal\n",
      "check interno en marcha:\n",
      "zooom\n",
      "check interno en marcha:\n",
      "pedal\n",
      "check interno en marcha:\n"
     ]
    },
    {
     "data": {
      "text/plain": [
       "True"
      ]
     },
     "execution_count": 8,
     "metadata": {},
     "output_type": "execute_result"
    }
   ],
   "source": [
    "class Bici(): # esta mierda no tiene ningún sentido.\n",
    "    def __init__(self):\n",
    "        self.__derechos = 'intocables'\n",
    "        self.__vanmoof = False\n",
    "        \n",
    "    def boost(self,mejora):\n",
    "        self.__derechos = mejora\n",
    "        print('ahora las bicis son',self.__derechos)\n",
    "    def estado(self):\n",
    "        print('las bicis son',self.__derechos)\n",
    "\n",
    "\n",
    "    \n",
    "    def check(self):\n",
    "        print('check interno en marcha:')\n",
    "        self.batt=True\n",
    "        if((self.__derechos=='intocables' \n",
    "            or self.__derechos=='bonitas') \n",
    "           and self.batt==True):\n",
    "            return True\n",
    "        else:\n",
    "            return False\n",
    "\n",
    "    def turbo(self,on):\n",
    "        self.__vanmoof = on\n",
    "        if(self.__vanmoof):\n",
    "            passed = self.check()\n",
    "        \n",
    "        if(self.__vanmoof and passed):\n",
    "            print('zooom')\n",
    "        elif(self.__vanmoof and passed):\n",
    "            print('a bit harder')\n",
    "        else:\n",
    "            print('pedal')\n",
    "            \n",
    "mibici=Bici()\n",
    "mibici.estado()\n",
    "mibici.turbo(False)\n",
    "mibici.turbo(True)\n",
    "mibici.batt==False\n",
    "mibici.check() #podemos hacer un check aun que no sea a través de interfaz vanmoof? mal.\n",
    "mibici.turbo(False)\n",
    "mibici.check() #tiene batería aunque no sea vanmoof? doble mal."
   ]
  },
  {
   "cell_type": "code",
   "execution_count": 9,
   "id": "e7ebd70a",
   "metadata": {},
   "outputs": [
    {
     "name": "stdout",
     "output_type": "stream",
     "text": [
      "las bicis son intocables\n",
      "pedal\n",
      "check interno en marcha:\n",
      "zooom\n"
     ]
    },
    {
     "data": {
      "text/plain": [
       "False"
      ]
     },
     "execution_count": 9,
     "metadata": {},
     "output_type": "execute_result"
    }
   ],
   "source": [
    "class Bici(): # esta mierda no tiene ningún sentido.\n",
    "    def __init__(self):\n",
    "        self.__derechos = 'intocables'\n",
    "        self.__vanmoof = False\n",
    "        \n",
    "    def boost(self,mejora):\n",
    "        self.__derechos = mejora\n",
    "        print('ahora las bicis son',self.__derechos)\n",
    "    def estado(self):\n",
    "        print('las bicis son',self.__derechos)\n",
    "\n",
    "\n",
    "    \n",
    "    def __check(self):\n",
    "        print('check interno en marcha:')\n",
    "        self.batt=True\n",
    "        if((self.__derechos=='intocables' \n",
    "            or self.__derechos=='bonitas') \n",
    "           and self.batt==True):\n",
    "            return True\n",
    "        else:\n",
    "            return False\n",
    "\n",
    "    def turbo(self,on):\n",
    "        self.__vanmoof = on\n",
    "        if(self.__vanmoof):\n",
    "            passed = self.__check()\n",
    "        \n",
    "        if(self.__vanmoof and passed):\n",
    "            print('zooom')\n",
    "        elif(self.__vanmoof and passed):\n",
    "            print('a bit harder')\n",
    "        else:\n",
    "            print('pedal')\n",
    "            \n",
    "mibici=Bici()\n",
    "mibici.estado()\n",
    "mibici.turbo(False)\n",
    "mibici.turbo(True)\n",
    "mibici.batt==False\n",
    "#mibici.check() #ahora ya no puede checkear desde fuera interfaz vanmoof\n"
   ]
  },
  {
   "cell_type": "markdown",
   "id": "fbc20260",
   "metadata": {},
   "source": [
    "# Herencia\n",
    "herencias entre clases\n",
    "quien pasa herencia es superclase\n",
    "quien recibe es subclase\n",
    "se puede ser ambos: superclase y subclase\n",
    "\n",
    "los coches ya son una clase con instancias de modelos concretos.\n",
    "y otros vehículos, como las motos, bicis... también son clases\n",
    "\n",
    "pero todos tienen características comunes... todos tienen una marca, un modelo, aceleran, frenan...\n",
    "pero tienen características diferentes: funciones diferentes no equiparables como tener caballete o caerse\n",
    "\n",
    "las características comunes estarán en una superclase\n",
    "\n"
   ]
  },
  {
   "cell_type": "code",
   "execution_count": 10,
   "id": "67c01292",
   "metadata": {},
   "outputs": [
    {
     "name": "stdout",
     "output_type": "stream",
     "text": [
      "marca viper \n",
      " modelo vespa \n",
      " ruedas 2 \n",
      " acelerando False \n",
      " frenando False\n"
     ]
    }
   ],
   "source": [
    "class Vehiculos():\n",
    "    def __init__(self,marca,modelo,ruedas):\n",
    "        self.marca = marca\n",
    "        self.modelo = modelo\n",
    "        self.ruedas = ruedas\n",
    "        self.frena=False\n",
    "        self.acelera=False\n",
    "        \n",
    "    def acelerar(self):\n",
    "        self.acelera=True\n",
    "    def frenar(self):\n",
    "        self.frena=True\n",
    "    \n",
    "    def estado(self):\n",
    "        print('marca', self.marca,\n",
    "              '\\n modelo', self.modelo,\n",
    "              '\\n ruedas', self.ruedas,\n",
    "              '\\n acelerando', self.acelera,\n",
    "             '\\n frenando', self.frena)\n",
    "\n",
    "#creando una clase en base a vehiculo\n",
    "class Moto(Vehiculos):\n",
    "    pass\n",
    "mimoto = Moto('viper','vespa',2)\n",
    "mimoto.estado()"
   ]
  },
  {
   "cell_type": "markdown",
   "id": "0c72fd12",
   "metadata": {},
   "source": [
    "cómo sobreescribir métodos y cómo heredar más de una herencia a la vez?\n"
   ]
  },
  {
   "cell_type": "code",
   "execution_count": 11,
   "id": "12c81407",
   "metadata": {},
   "outputs": [
    {
     "name": "stdout",
     "output_type": "stream",
     "text": [
      "marca viper \n",
      " modelo vespa \n",
      " ruedas 2 \n",
      " acelerando False \n",
      " frenando False\n",
      "amoto se cae sin caballito\n"
     ]
    }
   ],
   "source": [
    "class Vehiculos():\n",
    "    def __init__(self,marca,modelo,ruedas):\n",
    "        self.marca = marca\n",
    "        self.modelo = modelo\n",
    "        self.ruedas = ruedas\n",
    "        self.frena=False\n",
    "        self.acelera=False\n",
    "        \n",
    "    def acelerar(self):\n",
    "        self.acelera=True\n",
    "    def frenar(self):\n",
    "        self.frena=True\n",
    "    \n",
    "    def estado(self):\n",
    "        print('marca', self.marca,\n",
    "              '\\n modelo', self.modelo,\n",
    "              '\\n ruedas', self.ruedas,\n",
    "              '\\n acelerando', self.acelera,\n",
    "             '\\n frenando', self.frena)\n",
    "\n",
    "#creando una clase en base a vehiculo\n",
    "class Moto(Vehiculos):\n",
    "    cae = ''\n",
    "    def caer(self):\n",
    "        print('amoto se cae sin caballito')\n",
    "mimoto = Moto('viper','vespa',2)\n",
    "mimoto.estado()\n",
    "\n",
    "mimoto.caer()"
   ]
  },
  {
   "cell_type": "markdown",
   "id": "7b7cc91b",
   "metadata": {},
   "source": [
    "cómo informar si cae o no? desde el método estado de la super clase no tiene sentido definir self.cae pq eso es único para la moto\n",
    "\n",
    "hay que copiar todo el estado!!!"
   ]
  },
  {
   "cell_type": "code",
   "execution_count": 12,
   "id": "a6e441b9",
   "metadata": {},
   "outputs": [
    {
     "name": "stdout",
     "output_type": "stream",
     "text": [
      "marca viper \n",
      " modelo vespa \n",
      " ruedas 2 \n",
      " acelerando False \n",
      " frenando False \n",
      " \n",
      "marca viper \n",
      " modelo vespa \n",
      " ruedas 2 \n",
      " acelerando False \n",
      " frenando False \n",
      " amoto se cae sin caballito\n"
     ]
    }
   ],
   "source": [
    "class Vehiculos():\n",
    "    def __init__(self,marca,modelo,ruedas):\n",
    "        self.marca = marca\n",
    "        self.modelo = modelo\n",
    "        self.ruedas = ruedas\n",
    "        self.frena=False\n",
    "        self.acelera=False\n",
    "        \n",
    "    def acelerar(self):\n",
    "        self.acelera=True\n",
    "    def frenar(self):\n",
    "        self.frena=True\n",
    "    \n",
    "    def estado(self):\n",
    "        print('marca', self.marca,\n",
    "              '\\n modelo', self.modelo,\n",
    "              '\\n ruedas', self.ruedas,\n",
    "              '\\n acelerando', self.acelera,\n",
    "             '\\n frenando', self.frena)\n",
    "\n",
    "#creando una clase en base a vehiculo\n",
    "class Moto(Vehiculos):\n",
    "    cae = ''\n",
    "    def caer(self):\n",
    "        self.cae='amoto se cae sin caballito'\n",
    "\n",
    "    def estado(self):\n",
    "        print('marca', self.marca,\n",
    "              '\\n modelo', self.modelo,\n",
    "              '\\n ruedas', self.ruedas,\n",
    "              '\\n acelerando', self.acelera,\n",
    "              '\\n frenando', self.frena,\n",
    "              '\\n', self.cae)\n",
    "        \n",
    "mimoto = Moto('viper','vespa',2)\n",
    "\n",
    "mimoto.estado()\n",
    "mimoto.caer()\n",
    "mimoto.estado()"
   ]
  },
  {
   "cell_type": "markdown",
   "id": "0da1fb57",
   "metadata": {},
   "source": [
    "cómo incluir un método extra para la subclase?"
   ]
  },
  {
   "cell_type": "code",
   "execution_count": 13,
   "id": "b90b9131",
   "metadata": {},
   "outputs": [
    {
     "name": "stdout",
     "output_type": "stream",
     "text": [
      "marca viper \n",
      " modelo vespa \n",
      " ruedas 2 \n",
      " acelerando False \n",
      " frenando False \n",
      " \n",
      "marca viper \n",
      " modelo vespa \n",
      " ruedas 2 \n",
      " acelerando False \n",
      " frenando False \n",
      " amoto se cae sin caballito\n",
      "marca renault \n",
      " modelo kangoo \n",
      " ruedas 4 \n",
      " acelerando True \n",
      " frenando False\n",
      "ballena\n"
     ]
    }
   ],
   "source": [
    "class Vehiculos():\n",
    "    def __init__(self,marca,modelo,ruedas):\n",
    "        self.marca = marca\n",
    "        self.modelo = modelo\n",
    "        self.ruedas = ruedas\n",
    "        self.frena=False\n",
    "        self.acelera=False\n",
    "        \n",
    "    def acelerar(self):\n",
    "        self.acelera=True\n",
    "    def frenar(self):\n",
    "        self.frena=True\n",
    "    \n",
    "    def estado(self):\n",
    "        print('marca', self.marca,\n",
    "              '\\n modelo', self.modelo,\n",
    "              '\\n ruedas', self.ruedas,\n",
    "              '\\n acelerando', self.acelera,\n",
    "             '\\n frenando', self.frena)\n",
    "\n",
    "#creando una clase en base a vehiculo y creando la propiedad primero\n",
    "class Moto(Vehiculos):\n",
    "    cae = ''\n",
    "    def caer(self):\n",
    "        self.cae='amoto se cae sin caballito'\n",
    "\n",
    "    def estado(self):\n",
    "        print('marca', self.marca,\n",
    "              '\\n modelo', self.modelo,\n",
    "              '\\n ruedas', self.ruedas,\n",
    "              '\\n acelerando', self.acelera,\n",
    "              '\\n frenando', self.frena,\n",
    "              '\\n', self.cae)\n",
    "        \n",
    "mimoto = Moto('viper','vespa',2)\n",
    "\n",
    "mimoto.estado()\n",
    "mimoto.caer()\n",
    "mimoto.estado()\n",
    "\n",
    "#creando una clase en base a vehiculo pero creando el método primero\n",
    "class Furgo(Vehiculos):\n",
    "    def carga(self,cargar):\n",
    "        self.cargada=cargar\n",
    "        if(self.cargada):\n",
    "            return 'ballena'\n",
    "        else:\n",
    "            return 'vacía'\n",
    "        \n",
    "mifurgo = Furgo('renault','kangoo',4)\n",
    "\n",
    "mifurgo.acelerar()\n",
    "\n",
    "mifurgo.estado()\n",
    "\n",
    "print(mifurgo.carga(True))\n",
    "        "
   ]
  },
  {
   "cell_type": "markdown",
   "id": "cad4b810",
   "metadata": {},
   "source": [
    "cómo recibir de varias herencias? los vehículos eléctricos y las ebikes"
   ]
  },
  {
   "cell_type": "code",
   "execution_count": 16,
   "id": "1bdf8315",
   "metadata": {},
   "outputs": [
    {
     "name": "stdout",
     "output_type": "stream",
     "text": [
      "marca viper \n",
      " modelo vespa \n",
      " ruedas 2 \n",
      " acelerando False \n",
      " frenando False \n",
      " \n",
      "marca viper \n",
      " modelo vespa \n",
      " ruedas 2 \n",
      " acelerando False \n",
      " frenando False \n",
      " amoto se cae sin caballito\n",
      "marca renault \n",
      " modelo kangoo \n",
      " ruedas 4 \n",
      " acelerando True \n",
      " frenando False\n",
      "ballena\n"
     ]
    }
   ],
   "source": [
    "class Vehiculos():\n",
    "    def __init__(self,marca,modelo,ruedas):\n",
    "        self.marca = marca\n",
    "        self.modelo = modelo\n",
    "        self.ruedas = ruedas\n",
    "        self.frena=False\n",
    "        self.acelera=False\n",
    "        \n",
    "    def acelerar(self):\n",
    "        self.acelera=True\n",
    "    def frenar(self):\n",
    "        self.frena=True\n",
    "    \n",
    "    def estado(self):\n",
    "        print('marca', self.marca,\n",
    "              '\\n modelo', self.modelo,\n",
    "              '\\n ruedas', self.ruedas,\n",
    "              '\\n acelerando', self.acelera,\n",
    "             '\\n frenando', self.frena)\n",
    "\n",
    "#creando una clase en base a vehiculo y creando la propiedad primero\n",
    "class Moto(Vehiculos):\n",
    "    cae = ''\n",
    "    def caer(self):\n",
    "        self.cae='amoto se cae sin caballito'\n",
    "\n",
    "    def estado(self):\n",
    "        print('marca', self.marca,\n",
    "              '\\n modelo', self.modelo,\n",
    "              '\\n ruedas', self.ruedas,\n",
    "              '\\n acelerando', self.acelera,\n",
    "              '\\n frenando', self.frena,\n",
    "              '\\n', self.cae)\n",
    "        \n",
    "mimoto = Moto('viper','vespa',2)\n",
    "\n",
    "mimoto.estado()\n",
    "mimoto.caer()\n",
    "mimoto.estado()\n",
    "\n",
    "#creando una clase en base a vehiculo pero creando el método primero\n",
    "class Furgo(Vehiculos):\n",
    "    def carga(self,cargar):\n",
    "        self.cargada=cargar\n",
    "        if(self.cargada):\n",
    "            return 'ballena'\n",
    "        else:\n",
    "            return 'vacía'\n",
    "        \n",
    "mifurgo = Furgo('renault','kangoo',4)\n",
    "\n",
    "mifurgo.acelerar()\n",
    "\n",
    "mifurgo.estado()\n",
    "\n",
    "print(mifurgo.carga(True))\n",
    "        \n",
    "    \n",
    "class EVs():\n",
    "    def __init__(self):\n",
    "        self.range=100\n",
    "        \n",
    "    def enchufar(self):\n",
    "        self.cargando=True\n",
    "        \n",
    "class ebikes(EVs,Vehiculos): #solo se hereda el __init__ de la primera clase pasada\n",
    "    pass\n",
    "\n",
    "mibici=ebikes()\n",
    "\n",
    "#mibici.estado()#sale error pq no se ha definido marca..."
   ]
  },
  {
   "cell_type": "markdown",
   "id": "2e204d9e",
   "metadata": {},
   "source": [
    "pero leer un código que tiene muchas herencias múltiples es un rompecabezas..."
   ]
  }
 ],
 "metadata": {
  "kernelspec": {
   "display_name": "Python 3 (ipykernel)",
   "language": "python",
   "name": "python3"
  },
  "language_info": {
   "codemirror_mode": {
    "name": "ipython",
    "version": 3
   },
   "file_extension": ".py",
   "mimetype": "text/x-python",
   "name": "python",
   "nbconvert_exporter": "python",
   "pygments_lexer": "ipython3",
   "version": "3.8.13"
  }
 },
 "nbformat": 4,
 "nbformat_minor": 5
}
